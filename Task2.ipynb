{
 "cells": [
  {
   "cell_type": "markdown",
   "metadata": {},
   "source": [
    "# 1\n",
    "-----"
   ]
  },
  {
   "cell_type": "code",
   "execution_count": 1,
   "metadata": {},
   "outputs": [],
   "source": [
    "import numpy as np\n",
    "from sklearn.model_selection import train_test_split\n",
    "from sklearn.datasets import load_wine\n",
    "from sklearn.pipeline import make_pipeline\n",
    "from sklearn.preprocessing import MinMaxScaler\n",
    "from sklearn.model_selection import GridSearchCV\n",
    "from sklearn.preprocessing import Normalizer\n",
    "from sklearn.model_selection import cross_val_score\n",
    "from sklearn.svm import SVC\n",
    "from sklearn.preprocessing import RobustScaler\n",
    "from sklearn.discriminant_analysis import StandardScaler\n",
    "from sklearn.model_selection import KFold\n",
    "import matplotlib.pyplot as plt"
   ]
  },
  {
   "cell_type": "code",
   "execution_count": 2,
   "metadata": {},
   "outputs": [],
   "source": [
    "wine = load_wine()"
   ]
  },
  {
   "cell_type": "code",
   "execution_count": 3,
   "metadata": {},
   "outputs": [
    {
     "data": {
      "text/plain": [
       "(2007, 257)"
      ]
     },
     "execution_count": 3,
     "metadata": {},
     "output_type": "execute_result"
    }
   ],
   "source": [
    "test = np.genfromtxt(\"zip.test.gz\", delimiter=\" \")\n",
    "test.shape"
   ]
  },
  {
   "cell_type": "code",
   "execution_count": 4,
   "metadata": {},
   "outputs": [],
   "source": [
    "# Get the first 9 values of each line and label those as the values\n",
    "zipTestIDLabels = np.genfromtxt(\"zip.test.gz\", delimiter=\" \",usecols=0, dtype='float')"
   ]
  },
  {
   "cell_type": "code",
   "execution_count": 5,
   "metadata": {},
   "outputs": [],
   "source": [
    "# Get the last value from each line and desginate it as the label of each value\n",
    "zipTestGrayScaleValues = np.genfromtxt(\"zip.test.gz\", delimiter=\" \", usecols=np.arange(1,257), dtype='float')"
   ]
  },
  {
   "cell_type": "code",
   "execution_count": 6,
   "metadata": {},
   "outputs": [
    {
     "name": "stdout",
     "output_type": "stream",
     "text": [
      "[9. 6. 3. ... 4. 0. 1.]\n"
     ]
    }
   ],
   "source": [
    "print(zipTestIDLabels)"
   ]
  },
  {
   "cell_type": "code",
   "execution_count": 7,
   "metadata": {},
   "outputs": [
    {
     "name": "stdout",
     "output_type": "stream",
     "text": [
      "[[-1. -1. -1. ... -1. -1. -1.]\n",
      " [-1. -1. -1. ... -1. -1. -1.]\n",
      " [-1. -1. -1. ... -1. -1. -1.]\n",
      " ...\n",
      " [-1. -1. -1. ... -1. -1. -1.]\n",
      " [-1. -1. -1. ... -1. -1. -1.]\n",
      " [-1. -1. -1. ... -1. -1. -1.]]\n"
     ]
    }
   ],
   "source": [
    "print(zipTestGrayScaleValues)"
   ]
  },
  {
   "cell_type": "code",
   "execution_count": 8,
   "metadata": {},
   "outputs": [
    {
     "data": {
      "text/plain": [
       "(7291, 257)"
      ]
     },
     "execution_count": 8,
     "metadata": {},
     "output_type": "execute_result"
    }
   ],
   "source": [
    "train = np.genfromtxt(\"zip.train.gz\", delimiter=\" \")\n",
    "train.shape"
   ]
  },
  {
   "cell_type": "code",
   "execution_count": 9,
   "metadata": {},
   "outputs": [],
   "source": [
    "zipTrainIDLabels = np.genfromtxt(\"zip.train.gz\", delimiter=\" \",usecols=0, dtype='float')"
   ]
  },
  {
   "cell_type": "code",
   "execution_count": 10,
   "metadata": {},
   "outputs": [],
   "source": [
    "zipTrainGrayScaleValues = np.genfromtxt(\"zip.train.gz\", delimiter=\" \", usecols=np.arange(1,257), dtype='float')"
   ]
  },
  {
   "cell_type": "code",
   "execution_count": 11,
   "metadata": {},
   "outputs": [
    {
     "name": "stdout",
     "output_type": "stream",
     "text": [
      "[6. 5. 4. ... 3. 0. 1.]\n"
     ]
    }
   ],
   "source": [
    "print(zipTrainIDLabels)"
   ]
  },
  {
   "cell_type": "code",
   "execution_count": 12,
   "metadata": {},
   "outputs": [
    {
     "name": "stdout",
     "output_type": "stream",
     "text": [
      "[[-1.    -1.    -1.    ... -1.    -1.    -1.   ]\n",
      " [-1.    -1.    -1.    ... -0.671 -0.828 -1.   ]\n",
      " [-1.    -1.    -1.    ... -1.    -1.    -1.   ]\n",
      " ...\n",
      " [-1.    -1.    -1.    ... -1.    -1.    -1.   ]\n",
      " [-1.    -1.    -1.    ... -1.    -1.    -1.   ]\n",
      " [-1.    -1.    -1.    ... -1.    -1.    -1.   ]]\n"
     ]
    }
   ],
   "source": [
    "print(zipTrainGrayScaleValues)"
   ]
  },
  {
   "cell_type": "code",
   "execution_count": 13,
   "metadata": {},
   "outputs": [],
   "source": [
    "totalLabels = np.concatenate((zipTestIDLabels,zipTrainIDLabels), axis =0)"
   ]
  },
  {
   "cell_type": "code",
   "execution_count": 14,
   "metadata": {},
   "outputs": [],
   "source": [
    "totalValues = np.concatenate((zipTestGrayScaleValues,zipTrainGrayScaleValues), axis =0)"
   ]
  },
  {
   "cell_type": "code",
   "execution_count": 15,
   "metadata": {},
   "outputs": [
    {
     "name": "stdout",
     "output_type": "stream",
     "text": [
      "[9. 6. 3. ... 3. 0. 1.]\n"
     ]
    }
   ],
   "source": [
    "print(totalLabels)"
   ]
  },
  {
   "cell_type": "code",
   "execution_count": 16,
   "metadata": {},
   "outputs": [
    {
     "name": "stdout",
     "output_type": "stream",
     "text": [
      "[[-1. -1. -1. ... -1. -1. -1.]\n",
      " [-1. -1. -1. ... -1. -1. -1.]\n",
      " [-1. -1. -1. ... -1. -1. -1.]\n",
      " ...\n",
      " [-1. -1. -1. ... -1. -1. -1.]\n",
      " [-1. -1. -1. ... -1. -1. -1.]\n",
      " [-1. -1. -1. ... -1. -1. -1.]]\n"
     ]
    }
   ],
   "source": [
    "print(totalValues)"
   ]
  },
  {
   "cell_type": "code",
   "execution_count": 17,
   "metadata": {},
   "outputs": [
    {
     "name": "stdout",
     "output_type": "stream",
     "text": [
      "(9298,)\n"
     ]
    }
   ],
   "source": [
    "print(totalLabels.shape)"
   ]
  },
  {
   "cell_type": "code",
   "execution_count": 18,
   "metadata": {},
   "outputs": [
    {
     "name": "stdout",
     "output_type": "stream",
     "text": [
      "(9298, 256)\n"
     ]
    }
   ],
   "source": [
    "print(totalValues.shape)"
   ]
  },
  {
   "cell_type": "markdown",
   "metadata": {},
   "source": [
    "# 2\n",
    "------"
   ]
  },
  {
   "cell_type": "code",
   "execution_count": 19,
   "metadata": {},
   "outputs": [],
   "source": [
    "uspsX_train, uspsX_test, uspsY_train, uspsY_test = train_test_split(totalValues, totalLabels, random_state=2309)"
   ]
  },
  {
   "cell_type": "code",
   "execution_count": 20,
   "metadata": {},
   "outputs": [
    {
     "name": "stdout",
     "output_type": "stream",
     "text": [
      "(6973, 256) (2325, 256)\n"
     ]
    }
   ],
   "source": [
    "print(uspsX_train.shape,uspsX_test.shape)"
   ]
  },
  {
   "cell_type": "code",
   "execution_count": 21,
   "metadata": {},
   "outputs": [
    {
     "name": "stdout",
     "output_type": "stream",
     "text": [
      "(6973,) (2325,)\n"
     ]
    }
   ],
   "source": [
    "print(uspsY_train.shape,uspsY_test.shape)"
   ]
  },
  {
   "cell_type": "code",
   "execution_count": 22,
   "metadata": {},
   "outputs": [],
   "source": [
    "wineX_train, wineX_test, wineY_train, wineY_test = train_test_split(wine['data'], wine['target'], random_state=2309)"
   ]
  },
  {
   "cell_type": "code",
   "execution_count": 23,
   "metadata": {},
   "outputs": [
    {
     "name": "stdout",
     "output_type": "stream",
     "text": [
      "(133, 13) (45, 13)\n"
     ]
    }
   ],
   "source": [
    "print(wineX_train.shape,wineX_test.shape)"
   ]
  },
  {
   "cell_type": "markdown",
   "metadata": {},
   "source": [
    "# 3\n",
    "-----"
   ]
  },
  {
   "cell_type": "code",
   "execution_count": 24,
   "metadata": {},
   "outputs": [],
   "source": [
    "svm_model = SVC()\n",
    "\n",
    "uspsTrainScore = cross_val_score(svm_model,uspsX_train,uspsY_train)"
   ]
  },
  {
   "cell_type": "code",
   "execution_count": 25,
   "metadata": {},
   "outputs": [],
   "source": [
    "wineTrainScore = cross_val_score(svm_model,wineX_train,wineY_train)"
   ]
  },
  {
   "cell_type": "code",
   "execution_count": 26,
   "metadata": {},
   "outputs": [
    {
     "name": "stdout",
     "output_type": "stream",
     "text": [
      "Cross Validation Scores for USPS:  [0.97204301 0.9655914  0.97275986 0.96126255 0.97776184]\n"
     ]
    }
   ],
   "source": [
    "print(\"Cross Validation Scores for USPS: \", uspsTrainScore)"
   ]
  },
  {
   "cell_type": "code",
   "execution_count": 27,
   "metadata": {},
   "outputs": [
    {
     "name": "stdout",
     "output_type": "stream",
     "text": [
      "Average Cross Validation Score for USPS:  0.9698837310953754\n"
     ]
    }
   ],
   "source": [
    "print(\"Average Cross Validation Score for USPS: \", uspsTrainScore.mean())"
   ]
  },
  {
   "cell_type": "code",
   "execution_count": 28,
   "metadata": {},
   "outputs": [
    {
     "name": "stdout",
     "output_type": "stream",
     "text": [
      "Cross Validation Score for Wine:  [0.7037037  0.7037037  0.62962963 0.76923077 0.73076923]\n"
     ]
    }
   ],
   "source": [
    "print(\"Cross Validation Score for Wine: \", wineTrainScore)"
   ]
  },
  {
   "cell_type": "code",
   "execution_count": 29,
   "metadata": {},
   "outputs": [
    {
     "name": "stdout",
     "output_type": "stream",
     "text": [
      "Average Cross Validation Score for Wine:  0.7074074074074075\n"
     ]
    }
   ],
   "source": [
    "print(\"Average Cross Validation Score for Wine: \", wineTrainScore.mean())"
   ]
  },
  {
   "cell_type": "markdown",
   "metadata": {},
   "source": [
    "# 4\n",
    "-----"
   ]
  },
  {
   "cell_type": "code",
   "execution_count": 30,
   "metadata": {},
   "outputs": [
    {
     "name": "stdout",
     "output_type": "stream",
     "text": [
      "Test Error Rate of USPS on Training Set: 0.00989531048329273\n"
     ]
    }
   ],
   "source": [
    "svm_model.fit(uspsX_train, uspsY_train)\n",
    "\n",
    "test_accuracy = svm_model.score(uspsX_train, uspsY_train)\n",
    "test_error_rate = 1 - test_accuracy\n",
    "\n",
    "print(\"Test Error Rate of USPS on Training Set:\", test_error_rate)"
   ]
  },
  {
   "cell_type": "code",
   "execution_count": 31,
   "metadata": {},
   "outputs": [
    {
     "name": "stdout",
     "output_type": "stream",
     "text": [
      "Test Error Rate of Wine on Training Set: 0.3007518796992481\n"
     ]
    }
   ],
   "source": [
    "svm_model.fit(wineX_train, wineY_train)\n",
    "\n",
    "test_accuracy = svm_model.score(wineX_train, wineY_train)\n",
    "test_error_rate = 1 - test_accuracy\n",
    "\n",
    "print(\"Test Error Rate of Wine on Training Set:\", test_error_rate)"
   ]
  },
  {
   "cell_type": "code",
   "execution_count": 32,
   "metadata": {},
   "outputs": [
    {
     "name": "stdout",
     "output_type": "stream",
     "text": [
      "Test Error Rate of USPS on Test Set: 0.023655913978494647\n"
     ]
    }
   ],
   "source": [
    "svm_model.fit(uspsX_train, uspsY_train)\n",
    "\n",
    "test_accuracy = svm_model.score(uspsX_test, uspsY_test)\n",
    "test_error_rate = 1 - test_accuracy\n",
    "\n",
    "print(\"Test Error Rate of USPS on Test Set:\", test_error_rate)"
   ]
  },
  {
   "cell_type": "code",
   "execution_count": 33,
   "metadata": {},
   "outputs": [
    {
     "name": "stdout",
     "output_type": "stream",
     "text": [
      "Test Error Rate of Wine on Test Set: 0.4\n"
     ]
    }
   ],
   "source": [
    "svm_model.fit(wineX_train, wineY_train)\n",
    "\n",
    "test_accuracy = svm_model.score(wineX_test, wineY_test)\n",
    "test_error_rate = 1 - test_accuracy\n",
    "\n",
    "print(\"Test Error Rate of Wine on Test Set:\", test_error_rate)"
   ]
  },
  {
   "cell_type": "markdown",
   "metadata": {},
   "source": [
    "# 5 & 6\n",
    "-----"
   ]
  },
  {
   "cell_type": "markdown",
   "metadata": {},
   "source": [
    "    For the USPS Dataset"
   ]
  },
  {
   "cell_type": "code",
   "execution_count": 34,
   "metadata": {},
   "outputs": [],
   "source": [
    "param_grid = {'svc__C': [0.01, 0.1, 1, 10, 100],\n",
    "'svc__gamma': [0.001, 0.01, 0.1, 1, 10, 100]}"
   ]
  },
  {
   "cell_type": "code",
   "execution_count": 35,
   "metadata": {},
   "outputs": [],
   "source": [
    "def makePrediction(scaler, X_train, y_train, X_test, y_test):\n",
    "    pipeline = make_pipeline(scaler, SVC())\n",
    "    grid = GridSearchCV(pipeline, param_grid=param_grid, cv=5, n_jobs=-1)\n",
    "    grid.fit(X_train, y_train)\n",
    "\n",
    "    print(\"Best cross-validation accuracy:\", grid.best_score_)\n",
    "    print(\"Test set score:\", grid.score(X_test, y_test))\n",
    "    print(\"Best parameters:\", grid.best_params_)\n",
    "    print(\"Test Error Rate:\" , 1 - grid.score(X_test, y_test))"
   ]
  },
  {
   "cell_type": "code",
   "execution_count": 36,
   "metadata": {},
   "outputs": [
    {
     "name": "stdout",
     "output_type": "stream",
     "text": [
      "Best cross-validation accuracy: 0.9640040521847343\n",
      "Test set score: 0.9767741935483871\n",
      "Best parameters: {'svc__C': 100, 'svc__gamma': 0.001}\n",
      "Test Error Rate: 0.023225806451612874\n"
     ]
    }
   ],
   "source": [
    "makePrediction(StandardScaler(), uspsX_train, uspsY_train, uspsX_test, uspsY_test)"
   ]
  },
  {
   "cell_type": "code",
   "execution_count": 37,
   "metadata": {},
   "outputs": [
    {
     "name": "stdout",
     "output_type": "stream",
     "text": [
      "Best cross-validation accuracy: 0.9688799411713281\n",
      "Test set score: 0.9789247311827957\n",
      "Best parameters: {'svc__C': 100, 'svc__gamma': 0.01}\n",
      "Test Error Rate: 0.02107526881720434\n"
     ]
    }
   ],
   "source": [
    "makePrediction(MinMaxScaler(), uspsX_train, uspsY_train, uspsX_test, uspsY_test)"
   ]
  },
  {
   "cell_type": "code",
   "execution_count": 38,
   "metadata": {},
   "outputs": [
    {
     "name": "stdout",
     "output_type": "stream",
     "text": [
      "Best cross-validation accuracy: 0.8497110504311876\n",
      "Test set score: 0.7995698924731183\n",
      "Best parameters: {'svc__C': 100, 'svc__gamma': 0.001}\n",
      "Test Error Rate: 0.20043010752688173\n"
     ]
    }
   ],
   "source": [
    "makePrediction(RobustScaler(), uspsX_train, uspsY_train, uspsX_test, uspsY_test)"
   ]
  },
  {
   "cell_type": "code",
   "execution_count": 39,
   "metadata": {},
   "outputs": [
    {
     "name": "stdout",
     "output_type": "stream",
     "text": [
      "Best cross-validation accuracy: 0.9714609977219316\n",
      "Test set score: 0.9802150537634409\n",
      "Best parameters: {'svc__C': 10, 'svc__gamma': 1}\n",
      "Test Error Rate: 0.01978494623655913\n"
     ]
    }
   ],
   "source": [
    "makePrediction(Normalizer(), uspsX_train, uspsY_train, uspsX_test, uspsY_test)"
   ]
  },
  {
   "cell_type": "markdown",
   "metadata": {},
   "source": [
    "    Given this data, the best normalization algorithm for the USPS dataset to use seems to be the \"Normalizer\" as it provides the best accuracy for cross-validation and provides the best result for prediction as well and as such has the lowest test error rate. Moreover, it is also the normalization algorithm which took the least amount of time to complete. Therefore I will use 'Normalizer' as it provides the best accuracy, with parameters {'svc__C': 10, 'svc__gamma': 1}\n",
    "\n",
    "\n",
    "\n",
    "    ----- For the Wine Dataset ----"
   ]
  },
  {
   "cell_type": "code",
   "execution_count": 40,
   "metadata": {},
   "outputs": [
    {
     "name": "stdout",
     "output_type": "stream",
     "text": [
      "Best cross-validation accuracy: 0.9925925925925926\n",
      "Test set score: 0.9777777777777777\n",
      "Best parameters: {'svc__C': 1, 'svc__gamma': 0.1}\n",
      "Test Error Rate: 0.022222222222222254\n"
     ]
    }
   ],
   "source": [
    "makePrediction(StandardScaler(), wineX_train, wineY_train, wineX_test, wineY_test)"
   ]
  },
  {
   "cell_type": "code",
   "execution_count": 41,
   "metadata": {},
   "outputs": [
    {
     "name": "stdout",
     "output_type": "stream",
     "text": [
      "Best cross-validation accuracy: 0.9851851851851852\n",
      "Test set score: 0.9777777777777777\n",
      "Best parameters: {'svc__C': 1, 'svc__gamma': 1}\n",
      "Test Error Rate: 0.022222222222222254\n"
     ]
    }
   ],
   "source": [
    "makePrediction(MinMaxScaler(), wineX_train, wineY_train, wineX_test, wineY_test)"
   ]
  },
  {
   "cell_type": "code",
   "execution_count": 42,
   "metadata": {},
   "outputs": [
    {
     "name": "stdout",
     "output_type": "stream",
     "text": [
      "Best cross-validation accuracy: 0.9851851851851852\n",
      "Test set score: 1.0\n",
      "Best parameters: {'svc__C': 1, 'svc__gamma': 0.01}\n",
      "Test Error Rate: 0.0\n"
     ]
    }
   ],
   "source": [
    "makePrediction(RobustScaler(), wineX_train, wineY_train, wineX_test, wineY_test)"
   ]
  },
  {
   "cell_type": "code",
   "execution_count": 43,
   "metadata": {},
   "outputs": [
    {
     "name": "stdout",
     "output_type": "stream",
     "text": [
      "Best cross-validation accuracy: 0.9250712250712251\n",
      "Test set score: 0.8888888888888888\n",
      "Best parameters: {'svc__C': 100, 'svc__gamma': 100}\n",
      "Test Error Rate: 0.11111111111111116\n"
     ]
    }
   ],
   "source": [
    "makePrediction(Normalizer(), wineX_train, wineY_train, wineX_test, wineY_test)"
   ]
  },
  {
   "cell_type": "markdown",
   "metadata": {},
   "source": [
    "    For the Wine Dataset, the Robust Scaler seems to be the normalization algorithm as it provides us with a 0% Error Rate. However, the standard scaler provides us with better cross validation accuracy than Robust Scaler given the same data. I will be using the Robust Scaler for wine as a result, with parameters: {'svc__C': 1, 'svc__gamma': 0.01}"
   ]
  },
  {
   "cell_type": "markdown",
   "metadata": {},
   "source": [
    "# 7\n",
    "-----"
   ]
  },
  {
   "cell_type": "code",
   "execution_count": 44,
   "metadata": {},
   "outputs": [],
   "source": [
    "def getRank(array, true_labels):\n",
    "    \n",
    "    totalRanks = []\n",
    "\n",
    "    arr = []\n",
    "\n",
    "    # Creating an array 'arr' and filling it with the correct conformity scores for the given item\n",
    "    for i in range(0, len(true_labels)):\n",
    "\n",
    "        pos = int(true_labels[i])\n",
    "\n",
    "        trueConfor = array[i][pos]\n",
    "\n",
    "        arr.append(trueConfor)\n",
    "\n",
    "\n",
    "    # Ranking the test item based on each label\n",
    "    for x in range(0, len(array[0])):\n",
    "        modArray = arr\n",
    "        modArray.append(array[len(array)-1][x])\n",
    "\n",
    "        # Rank the current items based on the label\n",
    "        modArray.sort()\n",
    "\n",
    "        # Get the position of the item we are looking for and assign the position as the rank\n",
    "        count = modArray.index(array[len(array)-1][x])\n",
    "\n",
    "        totalRanks.append(count)\n",
    "\n",
    "\n",
    "\n",
    "    return totalRanks"
   ]
  },
  {
   "cell_type": "code",
   "execution_count": 45,
   "metadata": {},
   "outputs": [],
   "source": [
    "def crossConformalPredictor(scaler, trainingX,trainingY, testingX, testingY, svc_C, svc_Gamma, numberOfFolds):\n",
    "\n",
    "    # Making the Pipeline\n",
    "    pipeline = make_pipeline(scaler, SVC())\n",
    "\n",
    "    # Creating the grid\n",
    "    grid = GridSearchCV(pipeline, param_grid={'svc__C': [svc_C],'svc__gamma': [svc_Gamma]}, cv=5, n_jobs=-1)\n",
    "\n",
    "    # Creating the folds\n",
    "    kf = KFold(n_splits=numberOfFolds, shuffle=True , random_state=2309)\n",
    "\n",
    "    allRanks =[]\n",
    "\n",
    "    for rest_index, fold_index in kf.split(trainingX):\n",
    "        foldRanks =[]\n",
    "        currentPrediction = []\n",
    "\n",
    "        # Get the fold data and the rest of training data after fold split\n",
    "        X_rest, X_fold = trainingX[rest_index], trainingX[fold_index]\n",
    "        y_rest, y_fold = trainingY[rest_index], trainingY[fold_index]\n",
    "\n",
    "        # Fit the grid to the training data\n",
    "        grid.fit(X_rest,y_rest)\n",
    "\n",
    "        # Get the conformity scores of the current fold and the testing data\n",
    "        currentFoldPredictions = grid.decision_function(X_fold)\n",
    "        currentTestPredictions = grid.decision_function(testingX)\n",
    "\n",
    "        # For every test value\n",
    "        for i in range(0,len(testingX)):\n",
    "\n",
    "            # Append conformity scores of the fold and the current test item\n",
    "            currentPrediction = np.vstack((currentFoldPredictions,currentTestPredictions[i]))\n",
    "\n",
    "            # Get the ranks of the test item based on each label\n",
    "            ranks = getRank(currentPrediction,y_fold)\n",
    "\n",
    "            # Append the ranks of the test item to the fold ranks\n",
    "            foldRanks.append(ranks)\n",
    "\n",
    "        # Append the array of the each test item\n",
    "        allRanks.append(foldRanks)\n",
    "\n",
    "    # Returns the arrays of all the ranks of each test item and the conformity scores of the test items\n",
    "    return allRanks, currentTestPredictions\n",
    "   \n"
   ]
  },
  {
   "cell_type": "code",
   "execution_count": 46,
   "metadata": {},
   "outputs": [],
   "source": [
    "def sumAllFolds(allRanks):\n",
    "\n",
    "    pVal =[]\n",
    "\n",
    "    for i in range(0, len(allRanks[0])):\n",
    "        \n",
    "        vals = []\n",
    "\n",
    "        for x in range(0, len(allRanks[0][0])):\n",
    "\n",
    "            sumP = 0 \n",
    "            \n",
    "            for j in range(0, len(allRanks)):\n",
    "\n",
    "                # Sums all the ranks of a given value\n",
    "                sumP = sumP + allRanks[j][i][x] \n",
    "            \n",
    "            # Appends the ranks of single label from a test object\n",
    "            vals.append(sumP)\n",
    "\n",
    "        # Append the ranks of a test object and all labels to the array\n",
    "        pVal.append(vals)\n",
    "\n",
    "    return pVal"
   ]
  },
  {
   "cell_type": "code",
   "execution_count": 47,
   "metadata": {},
   "outputs": [],
   "source": [
    "def pValues(allRanks, x_Train):\n",
    "\n",
    "    # Gets an array of the test values and their ranks for each label\n",
    "    summedPVals = sumAllFolds(allRanks)\n",
    "\n",
    "    for i in range(0, len(summedPVals)):\n",
    "        for x in range(0, len(summedPVals[i])):\n",
    "\n",
    "            # Gets the value of a given label for the test item\n",
    "            pValue = summedPVals[i][x]\n",
    "\n",
    "            # Calculates the pValue for the current label and test sample\n",
    "            finalValue = (pValue +1)/((len(x_Train))+1)\n",
    "            \n",
    "            # Re-write the test value label rank for the pValue\n",
    "            summedPVals[i][x] = finalValue\n",
    "    \n",
    "    # Return the new array of pValues\n",
    "    return summedPVals\n",
    "                "
   ]
  },
  {
   "cell_type": "code",
   "execution_count": 48,
   "metadata": {},
   "outputs": [],
   "source": [
    "def falsePValues(summedPVals, trueLabels):\n",
    "\n",
    "    totalFalseP = 0\n",
    "    trueLabelsPredicted = 0 \n",
    "    totalLabels = 0\n",
    "\n",
    "    # Get the number of available labels\n",
    "    numberOfLabels = len(summedPVals[0])\n",
    "\n",
    "    # Get the number of available items\n",
    "    numberOfItems = len(summedPVals)\n",
    "\n",
    "    for i in range(0,len(summedPVals)):\n",
    "\n",
    "        maxValue =  0 \n",
    "        \n",
    "        for x in range(0,len(summedPVals[i])):\n",
    "            # If the current value is greater than the max_value found for pValue update it\n",
    "\n",
    "            if summedPVals[i][x] > maxValue:\n",
    "                maxValue = summedPVals[i][x]\n",
    "\n",
    "            # If the current item is the true label\n",
    "            if x == trueLabels[i]:\n",
    "                continue\n",
    "\n",
    "            # The false pValue is added to the total\n",
    "            else:\n",
    "                totalFalseP = totalFalseP + summedPVals[i][x]\n",
    "                \n",
    "\n",
    "        # Get the true label of the item\n",
    "        label = int(trueLabels[i])\n",
    "\n",
    "        # If the max pValue found is the one that is found at the true label\n",
    "        if maxValue ==  summedPVals[i][label]:\n",
    "\n",
    "            # Add a correct prediction \n",
    "            trueLabelsPredicted = trueLabelsPredicted + 1\n",
    "\n",
    "        \n",
    "        # Add a counter to the labels tested\n",
    "        totalLabels = totalLabels +1        \n",
    "\n",
    "    # Returns the average pValue, the number of true labels predicted and the total number of labels\n",
    "    return (totalFalseP/(numberOfLabels*numberOfItems)), trueLabelsPredicted, totalLabels\n",
    "\n"
   ]
  },
  {
   "cell_type": "markdown",
   "metadata": {},
   "source": [
    "    Using 5 Folds for KFold:"
   ]
  },
  {
   "cell_type": "code",
   "execution_count": 49,
   "metadata": {},
   "outputs": [
    {
     "name": "stdout",
     "output_type": "stream",
     "text": [
      "Average False P: 0.011387506909894955\n",
      "True Labels Predicted: 45\n",
      "Total Labels Predicted: 45\n",
      "Error Percentage:  0.0\n"
     ]
    }
   ],
   "source": [
    "allRanksWine, conformityScoresWine = crossConformalPredictor(RobustScaler(),wineX_train, wineY_train, wineX_test,wineY_test, 1, 0.01,5)\n",
    "\n",
    "valsWine = pValues(allRanksWine, wineX_train)\n",
    "falsepWine , trueLabelPredWine, totalLabelsWine = falsePValues(valsWine, wineY_test)\n",
    "\n",
    "print(\"Average False P:\", falsepWine)\n",
    "print(\"True Labels Predicted:\", trueLabelPredWine)\n",
    "print(\"Total Labels Predicted:\", totalLabelsWine)\n",
    "print(\"Error Percentage: \", (1-(trueLabelPredWine/totalLabelsWine))*100 )"
   ]
  },
  {
   "cell_type": "code",
   "execution_count": 50,
   "metadata": {},
   "outputs": [
    {
     "name": "stdout",
     "output_type": "stream",
     "text": [
      "Average False P: 0.017602973400272302\n",
      "True Labels Predicted: 2277\n",
      "Total Labels Predicted: 2325\n",
      "Error Percentage:  2.0645161290322567\n"
     ]
    }
   ],
   "source": [
    "allRanksUSPS, conformityScoresUSPS = crossConformalPredictor(Normalizer(),uspsX_train, uspsY_train, uspsX_test,uspsY_test, 10, 1,5)\n",
    "valsUSPS = pValues(allRanksUSPS, uspsX_test)\n",
    "falsepUSPS , trueLabelPredUSPS, totalLabelsUSPS = falsePValues(valsUSPS, uspsY_test)\n",
    "\n",
    "print(\"Average False P:\", falsepUSPS)\n",
    "print(\"True Labels Predicted:\", trueLabelPredUSPS)\n",
    "print(\"Total Labels Predicted:\", totalLabelsUSPS)\n",
    "print(\"Error Percentage: \", (1-(trueLabelPredUSPS/totalLabelsUSPS))*100 )"
   ]
  },
  {
   "cell_type": "code",
   "execution_count": 51,
   "metadata": {},
   "outputs": [
    {
     "data": {
      "image/png": "[encoded data removed]",
      "text/plain": [
       "<Figure size 640x480 with 1 Axes>"
      ]
     },
     "metadata": {},
     "output_type": "display_data"
    }
   ],
   "source": [
    "%matplotlib inline\n",
    "\n",
    "# All p-Values from Wine\n",
    "p_values = valsWine\n",
    "\n",
    "# The labels from the test set of Wine\n",
    "true_labels = wineY_test\n",
    "\n",
    "n_test = len(p_values)\n",
    "\n",
    "eps = np.linspace(0, 1, 100)  # a range of significance levels from 0 to 1\n",
    "err = np.zeros(100)  # the corresponding error rates\n",
    "\n",
    "for k, epsilon in enumerate(eps):\n",
    "\n",
    "    err[k] = 0  # initializing the error rate \n",
    "    \n",
    "    for j in range(n_test):\n",
    "\n",
    "        # Ensure true_labels[j] is an integer index\n",
    "        true_label_index = int(true_labels[j])\n",
    "        \n",
    "        # Access within the p_values list and check its less than the significance level\n",
    "        if p_values[j][true_label_index] <= epsilon:\n",
    "            err[k] += 1  # count this error\n",
    "\n",
    "    err[k] /= n_test  # Calculate error rate\n",
    "\n",
    "plt.plot(eps, err)\n",
    "plt.xlabel('Significance Level (ε)')\n",
    "plt.ylabel('Error Rate')\n",
    "plt.title('Calibration Curve Wine')\n",
    "plt.grid(True)\n",
    "plt.show()\n"
   ]
  },
  {
   "cell_type": "code",
   "execution_count": 52,
   "metadata": {},
   "outputs": [
    {
     "data": {
      "image/png": "[encoded data removed]",
      "text/plain": [
       "<Figure size 640x480 with 1 Axes>"
      ]
     },
     "metadata": {},
     "output_type": "display_data"
    }
   ],
   "source": [
    "%matplotlib inline\n",
    "\n",
    "# All p-Values from USPS\n",
    "p_values = valsUSPS\n",
    "\n",
    "# The labels from the test set of USPS\n",
    "true_labels = uspsY_test\n",
    "\n",
    "n_test = len(p_values)\n",
    "\n",
    "eps = np.linspace(0, 1, 100)  # a range of significance levels from 0 to 1\n",
    "err = np.zeros(100)  # the corresponding error rates\n",
    "\n",
    "for k, epsilon in enumerate(eps):\n",
    "\n",
    "    err[k] = 0  # initializing the error rate \n",
    "    \n",
    "    for j in range(n_test):\n",
    "        \n",
    "        # Ensure true_labels[j] is an integer index\n",
    "        true_label_index = int(true_labels[j])\n",
    "        \n",
    "        # Access within the p_values list and check its less than the significance level\n",
    "        if p_values[j][true_label_index] <= epsilon:\n",
    "            err[k] += 1  # count this error\n",
    "\n",
    "    err[k] /= n_test  # Calculate error rate\n",
    "\n",
    "plt.plot(eps, err)\n",
    "plt.xlabel('Significance Level (ε)')\n",
    "plt.ylabel('Error Rate')\n",
    "plt.title('Calibration Curve USPS')\n",
    "plt.grid(True)\n",
    "plt.show()\n"
   ]
  },
  {
   "cell_type": "markdown",
   "metadata": {},
   "source": [
    "    Using 10 Folds for KFold:"
   ]
  },
  {
   "cell_type": "code",
   "execution_count": 53,
   "metadata": {},
   "outputs": [
    {
     "name": "stdout",
     "output_type": "stream",
     "text": [
      "Average False P: 0.01663902708678828\n",
      "True Labels Predicted: 45\n",
      "Total Labels Predicted: 45\n",
      "Error Percentage:  0.0\n"
     ]
    }
   ],
   "source": [
    "allRanksWine, conformityScoresWine = crossConformalPredictor(RobustScaler(),wineX_train, wineY_train, wineX_test,wineY_test, 1, 0.01,10)\n",
    "\n",
    "valsWine = pValues(allRanksWine, wineX_train)\n",
    "falsepWine , trueLabelPredWine, totalLabelsWine = falsePValues(valsWine, wineY_test)\n",
    "\n",
    "print(\"Average False P:\", falsepWine)\n",
    "print(\"True Labels Predicted:\", trueLabelPredWine)\n",
    "print(\"Total Labels Predicted:\", totalLabelsWine)\n",
    "print(\"Error Percentage: \", (1-(trueLabelPredWine/totalLabelsWine))*100 )"
   ]
  },
  {
   "cell_type": "code",
   "execution_count": 54,
   "metadata": {},
   "outputs": [
    {
     "name": "stdout",
     "output_type": "stream",
     "text": [
      "Average False P: 0.01976900674007734\n",
      "True Labels Predicted: 2278\n",
      "Total Labels Predicted: 2325\n",
      "Error Percentage:  2.0215053763440904\n"
     ]
    }
   ],
   "source": [
    "allRanksUSPS, conformityScoresUSPS = crossConformalPredictor(Normalizer(),uspsX_train, uspsY_train, uspsX_test,uspsY_test, 10, 1,10)\n",
    "valsUSPS = pValues(allRanksUSPS, uspsX_test)\n",
    "falsepUSPS , trueLabelPredUSPS, totalLabelsUSPS = falsePValues(valsUSPS, uspsY_test)\n",
    "\n",
    "print(\"Average False P:\", falsepUSPS)\n",
    "print(\"True Labels Predicted:\", trueLabelPredUSPS)\n",
    "print(\"Total Labels Predicted:\", totalLabelsUSPS)\n",
    "print(\"Error Percentage: \", (1-(trueLabelPredUSPS/totalLabelsUSPS))*100 )"
   ]
  },
  {
   "cell_type": "code",
   "execution_count": 55,
   "metadata": {},
   "outputs": [
    {
     "data": {
      "image/png": "[encoded data removed]",
      "text/plain": [
       "<Figure size 640x480 with 1 Axes>"
      ]
     },
     "metadata": {},
     "output_type": "display_data"
    }
   ],
   "source": [
    "%matplotlib inline\n",
    "\n",
    "# All p-Values from Wine\n",
    "p_values = valsWine\n",
    "\n",
    "# The labels from the test set of Wine\n",
    "true_labels = wineY_test\n",
    "\n",
    "n_test = len(p_values)\n",
    "\n",
    "eps = np.linspace(0, 1, 100)  # a range of significance levels from 0 to 1\n",
    "err = np.zeros(100)  # the corresponding error rates\n",
    "\n",
    "for k, epsilon in enumerate(eps):\n",
    "\n",
    "    err[k] = 0  # initializing the error rate \n",
    "    \n",
    "    for j in range(n_test):\n",
    "\n",
    "        # Ensure true_labels[j] is an integer index\n",
    "        true_label_index = int(true_labels[j])\n",
    "        \n",
    "        # Access within the p_values list and check its less than the significance level\n",
    "        if p_values[j][true_label_index] <= epsilon:\n",
    "            err[k] += 1  # count this error\n",
    "\n",
    "    err[k] /= n_test  # Calculate error rate\n",
    "\n",
    "plt.plot(eps, err)\n",
    "plt.xlabel('Significance Level (ε)')\n",
    "plt.ylabel('Error Rate')\n",
    "plt.title('Calibration Curve Wine')\n",
    "plt.grid(True)\n",
    "plt.show()\n"
   ]
  },
  {
   "cell_type": "code",
   "execution_count": 56,
   "metadata": {},
   "outputs": [
    {
     "data": {
      "image/png": "[encoded data removed]",
      "text/plain": [
       "<Figure size 640x480 with 1 Axes>"
      ]
     },
     "metadata": {},
     "output_type": "display_data"
    }
   ],
   "source": [
    "%matplotlib inline\n",
    "\n",
    "# All p-Values from USPS\n",
    "p_values = valsUSPS\n",
    "\n",
    "# The labels from the test set of USPS\n",
    "true_labels = uspsY_test\n",
    "\n",
    "n_test = len(p_values)\n",
    "\n",
    "eps = np.linspace(0, 1, 100)  # a range of significance levels from 0 to 1\n",
    "err = np.zeros(100)  # the corresponding error rates\n",
    "\n",
    "for k, epsilon in enumerate(eps):\n",
    "\n",
    "    err[k] = 0  # initializing the error rate \n",
    "    \n",
    "    for j in range(n_test):\n",
    "        \n",
    "        # Ensure true_labels[j] is an integer index\n",
    "        true_label_index = int(true_labels[j])\n",
    "        \n",
    "        # Access within the p_values list and check its less than the significance level\n",
    "        if p_values[j][true_label_index] <= epsilon:\n",
    "            err[k] += 1  # count this error\n",
    "\n",
    "    err[k] /= n_test  # Calculate error rate\n",
    "\n",
    "plt.plot(eps, err)\n",
    "plt.xlabel('Significance Level (ε)')\n",
    "plt.ylabel('Error Rate')\n",
    "plt.title('Calibration Curve USPS')\n",
    "plt.grid(True)\n",
    "plt.show()\n"
   ]
  }
 ],
 "metadata": {
  "kernelspec": {
   "display_name": "Python 3",
   "language": "python",
   "name": "python3"
  },
  "language_info": {
   "codemirror_mode": {
    "name": "ipython",
    "version": 3
   },
   "file_extension": ".py",
   "mimetype": "text/x-python",
   "name": "python",
   "nbconvert_exporter": "python",
   "pygments_lexer": "ipython3",
   "version": "3.11.4"
  }
 },
 "nbformat": 4,
 "nbformat_minor": 2
}
